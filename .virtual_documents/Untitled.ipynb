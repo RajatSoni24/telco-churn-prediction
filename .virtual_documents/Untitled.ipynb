import pandas as pd

# load dataset
df = pd.read_csv('/Users/apple/Documents/DAP/telco/data/telco_churn.csv')
df.head()



df.info()



df.describe()



